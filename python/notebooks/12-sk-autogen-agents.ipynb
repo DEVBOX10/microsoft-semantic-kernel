{
 "cells": [
  {
   "cell_type": "markdown",
   "metadata": {},
   "source": [
    "The following notebook shows how to combine **Semantic Kernel and AutoGen**, leveraging\n",
    "SK's ability to work with **safe plugins** and creating **planners** to achieve\n",
    "users' goals, and AutoGen's **conversational programming** approach to iteratively\n",
    "complete a task.\n",
    "\n",
    "Several AutoGen examples focus on code generation, while in this case we take a\n",
    "safer approach, **controlling what our Agents can do, providing a list of Plugins**,\n",
    "and allowing AI to execute only the plugins loaded into Semantic Kernel.\n",
    "\n",
    "The scenario is pretty simple and easy to extend, we provide two Plugins:\n",
    "\n",
    "1. A Plugin to search the Web, using Bing\n",
    "2. A Plugin to parse web pages\n",
    "\n",
    "and ask Semantic Kernel to answer a question, if possible.\n",
    "\n",
    "Feel free to add more plugins, to augment the agent and increase the scope of work\n",
    "the agent can do."
   ]
  },
  {
   "cell_type": "markdown",
   "metadata": {},
   "source": [
    "The following block installs the required library in the current Jupyter kernel.\n",
    "We recommend using at least Python 3.10, though 3.8+ should work fine too."
   ]
  },
  {
   "cell_type": "code",
   "execution_count": null,
   "metadata": {},
   "outputs": [],
   "source": [
    "# Install packages in the current Jupyter kernel\n",
    "import sys\n",
    "!{sys.executable} -m pip install --upgrade semantic-kernel==0.3.14.dev0\n",
    "!{sys.executable} -m pip install --upgrade pyautogen==0.1.14\n",
    "!{sys.executable} -m pip install --upgrade beautifulsoup4~=4.12"
   ]
  },
  {
   "cell_type": "markdown",
   "metadata": {},
   "source": [
    "Before proceeding please provide some API keys.\n",
    "\n",
    "To get a Bing API Key, you should deploy a Bing Search resource on Azure,\n",
    "then look for the credentials under \"Keys and Endpoints\" in the Azure Portal.\n",
    "\n",
    "Semantic Kernel and AutoGen leverage **OpenAI Function Calling** (version 0613).\n",
    "Select here whether you'd like to use Azure OpenAI or OpenAI (see `type`), and\n",
    "provide the usual LLM credentials.\n",
    "\n",
    "For OpenAI the code automatically uses GPT 3.5 turbo. For Azure OpenAI, please\n",
    "provide a deployment name pointing either to GPT 3.5 turbo or GPT4 version 0613."
   ]
  },
  {
   "cell_type": "code",
   "execution_count": null,
   "metadata": {},
   "outputs": [],
   "source": [
    "# Configure your credentials here\n",
    "\n",
    "bing_api_key = \"...\" # Replace with your Bing API key\n",
    "\n",
    "llm_config = {\n",
    "    \"type\"            : \"azure\",  # \"azure\" or \"openai\"\n",
    "\n",
    "    \"openai_api_key\"  : \"sk-...\", # OpenAI API Key\n",
    "\n",
    "    \"azure_deployment\": \"\",       # Azure OpenAI deployment name\n",
    "    \"azure_api_key\"   : \"\",       # Azure OpenAI API key in the Azure portal\n",
    "    \"azure_endpoint\"  : \"\"        # Endpoint URL for Azure OpenAI, e.g. https://contoso.openai.azure.com/\n",
    "}"
   ]
  },
  {
   "cell_type": "markdown",
   "metadata": {},
   "source": [
    "The following block is very straightforward: load Semantic Kernel :-)"
   ]
  },
  {
   "cell_type": "code",
   "execution_count": null,
   "metadata": {},
   "outputs": [],
   "source": [
    "# Load Semantic Kernel\n",
    "import semantic_kernel\n",
    "\n",
    "kernel = semantic_kernel.Kernel()\n",
    "\n",
    "print(\"Kernel loaded.\")"
   ]
  },
  {
   "cell_type": "markdown",
   "metadata": {},
   "source": [
    "Here's is where we control how our agents will get work done. We load some plugins\n",
    "into Semantic Kernel. \n",
    "\n",
    "You can find the plugins under the `plugins` folder, and you can also add more\n",
    "plugins to augment the agent."
   ]
  },
  {
   "cell_type": "code",
   "execution_count": null,
   "metadata": {},
   "outputs": [],
   "source": [
    "# Load Plugins\n",
    "from plugins.sk_bing_plugin import BingPlugin\n",
    "from plugins.sk_web_pages_plugin import WebPagesPlugin\n",
    "\n",
    "kernel.import_skill(BingPlugin(bing_api_key))\n",
    "kernel.import_skill(WebPagesPlugin())\n",
    "\n",
    "print(\"Plugins ready.\")"
   ]
  },
  {
   "cell_type": "markdown",
   "metadata": {},
   "source": [
    "Finally the last step to instantiate our new AutoGen Planner, integrating AutoGen\n",
    "with Semantic Kernel, and leveraging the well know Planner pattern, now with\n",
    "conversational programming."
   ]
  },
  {
   "cell_type": "code",
   "execution_count": null,
   "metadata": {},
   "outputs": [],
   "source": [
    "# Load SK AutoGen Planner\n",
    "from planning.autogen_planner import AutoGenPlanner\n",
    "\n",
    "sk_planner = AutoGenPlanner(kernel, llm_config)\n",
    "\n",
    "assistant = sk_planner.create_assistant_agent(\"Assistant\")\n",
    "worker = sk_planner.create_user_agent(\"Worker\", max_auto_reply=4, human_input=\"NEVER\")\n",
    "\n",
    "print(\"Planner ready.\")"
   ]
  },
  {
   "cell_type": "markdown",
   "metadata": {},
   "source": [
    "Lastly: define a goal and start the agents!"
   ]
  },
  {
   "cell_type": "code",
   "execution_count": null,
   "metadata": {},
   "outputs": [],
   "source": [
    "# Run!\n",
    "\n",
    "question = \"what's the current Microsoft stock price?\"\n",
    "\n",
    "worker.initiate_chat(assistant, message=question)"
   ]
  },
  {
   "cell_type": "markdown",
   "metadata": {},
   "source": [
    "The final result will look something like this, showing our agents working\n",
    "through the given task and eventually showing the result:\n",
    "\n",
    "![images/12-1.png](images/12-1.png)"
   ]
  }
 ],
 "metadata": {
  "kernelspec": {
   "display_name": "autogen",
   "language": "python",
   "name": "python3"
  },
  "language_info": {
   "codemirror_mode": {
    "name": "ipython",
    "version": 3
   },
   "file_extension": ".py",
   "mimetype": "text/x-python",
   "name": "python",
   "nbconvert_exporter": "python",
   "pygments_lexer": "ipython3",
   "version": "3.11.4"
  }
 },
 "nbformat": 4,
 "nbformat_minor": 2
}
